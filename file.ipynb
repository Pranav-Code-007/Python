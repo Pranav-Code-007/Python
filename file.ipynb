{
 "cells": [
  {
   "cell_type": "code",
   "execution_count": null,
   "id": "c9f0ec3e-13ed-4d4c-baa9-df4d1b7e960f",
   "metadata": {},
   "outputs": [],
   "source": [
    "print(\" Hi \")"
   ]
  },
  {
   "cell_type": "code",
   "execution_count": 1,
   "id": "6b5e2037-9427-4991-9005-3abf31244a87",
   "metadata": {},
   "outputs": [
    {
     "name": "stdout",
     "output_type": "stream",
     "text": [
      "Hi Hello\n"
     ]
    }
   ],
   "source": [
    "print(\"Hi Hello\")"
   ]
  },
  {
   "cell_type": "code",
   "execution_count": 1,
   "id": "b084b143-c011-4de4-b0b7-08dab05d7b0c",
   "metadata": {},
   "outputs": [
    {
     "name": "stdout",
     "output_type": "stream",
     "text": [
      "Hi Hello\n"
     ]
    }
   ],
   "source": [
    "print(\"Hi Hello\")"
   ]
  },
  {
   "cell_type": "code",
   "execution_count": 1,
   "id": "d10943ea-9273-4c82-8553-915307505e25",
   "metadata": {},
   "outputs": [
    {
     "name": "stdout",
     "output_type": "stream",
     "text": [
      "Hi Hello\n"
     ]
    }
   ],
   "source": [
    "print(\"Hi Hello\")"
   ]
  },
  {
   "cell_type": "code",
   "execution_count": 1,
   "id": "60e9bdc7-8a2d-4304-b535-98950ad846c3",
   "metadata": {},
   "outputs": [
    {
     "name": "stdout",
     "output_type": "stream",
     "text": [
      "Hi Hello\n"
     ]
    }
   ],
   "source": [
    "print(\"Hi Hello\")"
   ]
  },
  {
   "cell_type": "code",
   "execution_count": 1,
   "id": "7580552f-a209-45c1-b071-ba6e59d3da21",
   "metadata": {},
   "outputs": [
    {
     "name": "stdout",
     "output_type": "stream",
     "text": [
      "Hi Hello\n"
     ]
    }
   ],
   "source": [
    "print(\"Hi Hello\")"
   ]
  },
  {
   "cell_type": "code",
   "execution_count": 1,
   "id": "1606897d-be5b-4def-8766-6c7f05abb66d",
   "metadata": {},
   "outputs": [
    {
     "name": "stdout",
     "output_type": "stream",
     "text": [
      "Hi Hello\n"
     ]
    }
   ],
   "source": [
    "print(\"Hi Hello\")"
   ]
  },
  {
   "cell_type": "code",
   "execution_count": 1,
   "id": "ae30d3de-def0-4562-bece-6c94a569eaf3",
   "metadata": {},
   "outputs": [
    {
     "name": "stdout",
     "output_type": "stream",
     "text": [
      "Hi Hello\n"
     ]
    }
   ],
   "source": [
    "print(\"Hi Hello\")"
   ]
  },
  {
   "cell_type": "code",
   "execution_count": 1,
   "id": "b2ed1d7a-40f4-4d35-8fc7-5a9e1a7afc22",
   "metadata": {},
   "outputs": [
    {
     "name": "stdout",
     "output_type": "stream",
     "text": [
      "Hi Hello\n"
     ]
    }
   ],
   "source": [
    "print(\"Hi Hello\")"
   ]
  },
  {
   "cell_type": "code",
   "execution_count": 1,
   "id": "862e471b-6f37-4252-b3f0-c5a5f1e28f1c",
   "metadata": {},
   "outputs": [
    {
     "name": "stdout",
     "output_type": "stream",
     "text": [
      "Hi Hello\n"
     ]
    }
   ],
   "source": [
    "print(\"Hi Hello\")"
   ]
  },
  {
   "cell_type": "code",
   "execution_count": 1,
   "id": "203e7627-514e-499d-a483-f06830744597",
   "metadata": {},
   "outputs": [
    {
     "name": "stdout",
     "output_type": "stream",
     "text": [
      "Hi Hello\n"
     ]
    }
   ],
   "source": [
    "print(\"Hi Hello\")"
   ]
  },
  {
   "cell_type": "code",
   "execution_count": 1,
   "id": "eaf38b56-5868-4836-a108-7c3a3954cc53",
   "metadata": {},
   "outputs": [
    {
     "name": "stdout",
     "output_type": "stream",
     "text": [
      "Hi Hello\n"
     ]
    }
   ],
   "source": [
    "print(\"Hi Hello\")"
   ]
  },
  {
   "cell_type": "code",
   "execution_count": null,
   "id": "f20f63b9-dc54-4882-b0ab-ed9cc1a91221",
   "metadata": {},
   "outputs": [],
   "source": []
  },
  {
   "cell_type": "code",
   "execution_count": null,
   "id": "e833f9ee-f4a5-4a0f-8b7f-5845c44965ac",
   "metadata": {},
   "outputs": [],
   "source": []
  },
  {
   "cell_type": "code",
   "execution_count": null,
   "id": "1bf63c82-2d2d-417a-bea7-d23ac0c67c79",
   "metadata": {},
   "outputs": [],
   "source": []
  },
  {
   "cell_type": "code",
   "execution_count": null,
   "id": "55c99676-c018-4936-8b84-caf3d8131d6d",
   "metadata": {},
   "outputs": [],
   "source": []
  },
  {
   "cell_type": "code",
   "execution_count": null,
   "id": "cb300621-0086-46c4-8d9e-76b7adca7d57",
   "metadata": {},
   "outputs": [],
   "source": []
  },
  {
   "cell_type": "code",
   "execution_count": null,
   "id": "50939743-a9f3-4db0-9215-68154b5d5b9a",
   "metadata": {},
   "outputs": [],
   "source": []
  },
  {
   "cell_type": "code",
   "execution_count": null,
   "id": "d9224dd9-d59b-4174-bd59-a183f0b20efe",
   "metadata": {},
   "outputs": [],
   "source": []
  },
  {
   "cell_type": "code",
   "execution_count": null,
   "id": "395cd571-6fd7-4dfa-ae69-e9782176906a",
   "metadata": {},
   "outputs": [],
   "source": []
  },
  {
   "cell_type": "code",
   "execution_count": null,
   "id": "6663069b-2d4f-47e2-b796-50a16a956fbd",
   "metadata": {},
   "outputs": [],
   "source": []
  },
  {
   "cell_type": "code",
   "execution_count": null,
   "id": "78786d88-c11e-415d-8ae3-3a703ee8e835",
   "metadata": {},
   "outputs": [],
   "source": []
  },
  {
   "cell_type": "code",
   "execution_count": null,
   "id": "9204f1d0-fc93-48b9-97cf-f0b36052da7b",
   "metadata": {},
   "outputs": [],
   "source": []
  },
  {
   "cell_type": "code",
   "execution_count": null,
   "id": "cc6f504e-90dc-49c7-9b06-07f6b93a7184",
   "metadata": {},
   "outputs": [],
   "source": []
  },
  {
   "cell_type": "code",
   "execution_count": null,
   "id": "ba3b7d58-51db-47bc-a02a-fac87789055d",
   "metadata": {},
   "outputs": [],
   "source": []
  },
  {
   "cell_type": "code",
   "execution_count": null,
   "id": "a71d6b99-fddd-4b24-b062-0040c674aec7",
   "metadata": {},
   "outputs": [],
   "source": []
  },
  {
   "cell_type": "code",
   "execution_count": null,
   "id": "9cb880a8-44bf-469b-9ef5-37e1e9056f1d",
   "metadata": {},
   "outputs": [],
   "source": []
  },
  {
   "cell_type": "code",
   "execution_count": null,
   "id": "0a3b569e-60db-4f43-8e6a-433595f58c9a",
   "metadata": {},
   "outputs": [],
   "source": []
  },
  {
   "cell_type": "code",
   "execution_count": null,
   "id": "e99be469-9c80-4f5b-97d3-2c3a30bd6e73",
   "metadata": {},
   "outputs": [],
   "source": []
  },
  {
   "cell_type": "code",
   "execution_count": null,
   "id": "72bdb565-4718-4cd6-977c-aa00b2a4f7b1",
   "metadata": {},
   "outputs": [],
   "source": []
  },
  {
   "cell_type": "code",
   "execution_count": null,
   "id": "c8d454f1-6a9f-4f8a-befe-8d67ae6b40a4",
   "metadata": {},
   "outputs": [],
   "source": []
  },
  {
   "cell_type": "code",
   "execution_count": null,
   "id": "6d724eda-c9eb-419f-b734-3c3c7489a629",
   "metadata": {},
   "outputs": [],
   "source": []
  },
  {
   "cell_type": "code",
   "execution_count": null,
   "id": "13c53316-3baa-47b0-a754-618712d2f987",
   "metadata": {},
   "outputs": [],
   "source": []
  },
  {
   "cell_type": "code",
   "execution_count": null,
   "id": "14fa86a6-35b9-45f1-80e4-b21b90d96783",
   "metadata": {},
   "outputs": [],
   "source": []
  },
  {
   "cell_type": "code",
   "execution_count": null,
   "id": "0337287f-fd57-4579-98e6-1ad8adb73078",
   "metadata": {},
   "outputs": [],
   "source": []
  },
  {
   "cell_type": "code",
   "execution_count": null,
   "id": "6b436c41-e29b-4ba9-90fe-1d0dcaf4dd69",
   "metadata": {},
   "outputs": [],
   "source": []
  },
  {
   "cell_type": "code",
   "execution_count": null,
   "id": "6ad0fa50-a6fb-4558-a13c-3e2afa69f1a7",
   "metadata": {},
   "outputs": [],
   "source": []
  },
  {
   "cell_type": "code",
   "execution_count": null,
   "id": "da9a73fa-326b-4b08-8e29-99239f013cc9",
   "metadata": {},
   "outputs": [],
   "source": []
  },
  {
   "cell_type": "code",
   "execution_count": null,
   "id": "c77d8dc2-764a-47b7-82ac-788e1d53e1c0",
   "metadata": {},
   "outputs": [],
   "source": []
  },
  {
   "cell_type": "code",
   "execution_count": null,
   "id": "f5d24954-4dbd-4b37-be79-f4b5e587e90a",
   "metadata": {},
   "outputs": [],
   "source": []
  },
  {
   "cell_type": "code",
   "execution_count": null,
   "id": "e4234336-6911-44bb-916d-09032b280911",
   "metadata": {},
   "outputs": [],
   "source": []
  },
  {
   "cell_type": "code",
   "execution_count": null,
   "id": "5772cdc0-be46-4678-9307-9c5b52d81dd4",
   "metadata": {},
   "outputs": [],
   "source": []
  },
  {
   "cell_type": "code",
   "execution_count": null,
   "id": "dc7f2635-419d-49ea-973b-d7fe5d1be695",
   "metadata": {},
   "outputs": [],
   "source": []
  },
  {
   "cell_type": "code",
   "execution_count": null,
   "id": "c3c3aa7d-564e-4085-87fd-8b8358961693",
   "metadata": {},
   "outputs": [],
   "source": []
  },
  {
   "cell_type": "code",
   "execution_count": null,
   "id": "c748b7ce-765b-4d14-bbf6-a88628d142ab",
   "metadata": {},
   "outputs": [],
   "source": []
  },
  {
   "cell_type": "code",
   "execution_count": null,
   "id": "7f5240d1-b9d4-4faf-abf4-d4697757bdc3",
   "metadata": {},
   "outputs": [],
   "source": []
  },
  {
   "cell_type": "code",
   "execution_count": null,
   "id": "e277f0da-18e1-48fb-8d5d-59bf2b424dab",
   "metadata": {},
   "outputs": [],
   "source": [
    "print(\"Hi Hello\")"
   ]
  },
  {
   "cell_type": "code",
   "execution_count": null,
   "id": "67883714-4e87-4f34-b08c-947b4434d648",
   "metadata": {},
   "outputs": [],
   "source": []
  },
  {
   "cell_type": "code",
   "execution_count": null,
   "id": "58f63f07-23bf-40f7-be95-e6bd5fc5ec3d",
   "metadata": {},
   "outputs": [],
   "source": []
  },
  {
   "cell_type": "code",
   "execution_count": null,
   "id": "c3546f4d-f283-4b5e-9590-3b976c4e5ed9",
   "metadata": {},
   "outputs": [],
   "source": []
  },
  {
   "cell_type": "code",
   "execution_count": null,
   "id": "d85dc156-3ae0-4496-aa66-cae51a23a3e0",
   "metadata": {},
   "outputs": [],
   "source": []
  },
  {
   "cell_type": "code",
   "execution_count": null,
   "id": "573936b6-5f65-469b-8ce5-677653206602",
   "metadata": {},
   "outputs": [],
   "source": []
  },
  {
   "cell_type": "code",
   "execution_count": null,
   "id": "fc55610d-f5f0-4e6e-b7e8-bc202122af24",
   "metadata": {},
   "outputs": [],
   "source": []
  },
  {
   "cell_type": "code",
   "execution_count": null,
   "id": "959dbacf-54e6-4d69-8ba8-881b6513675f",
   "metadata": {},
   "outputs": [],
   "source": []
  },
  {
   "cell_type": "code",
   "execution_count": null,
   "id": "abe8c8cb-e6a3-42ec-a93a-2a9e477d7031",
   "metadata": {},
   "outputs": [],
   "source": []
  },
  {
   "cell_type": "code",
   "execution_count": null,
   "id": "5edbeb4a-a7c3-43ed-b00d-3d5f22ccba30",
   "metadata": {},
   "outputs": [],
   "source": []
  },
  {
   "cell_type": "code",
   "execution_count": null,
   "id": "3571f9a2-689e-4dc0-ba41-c84152520b74",
   "metadata": {},
   "outputs": [],
   "source": []
  },
  {
   "cell_type": "code",
   "execution_count": null,
   "id": "4920d39f-1d72-4ba7-b3b5-1d26f27a8a46",
   "metadata": {},
   "outputs": [],
   "source": []
  },
  {
   "cell_type": "code",
   "execution_count": null,
   "id": "2b5baf4d-c5bd-444c-b181-e969292e480b",
   "metadata": {},
   "outputs": [],
   "source": []
  },
  {
   "cell_type": "code",
   "execution_count": null,
   "id": "4a20240a-a1a7-423f-b198-c925d1476b98",
   "metadata": {},
   "outputs": [],
   "source": []
  },
  {
   "cell_type": "code",
   "execution_count": null,
   "id": "48972bb1-5972-4f82-8cb9-792d39f8e0da",
   "metadata": {},
   "outputs": [],
   "source": []
  },
  {
   "cell_type": "code",
   "execution_count": null,
   "id": "b103eacf-ed66-465a-9cf2-395173ec36a7",
   "metadata": {},
   "outputs": [],
   "source": []
  },
  {
   "cell_type": "code",
   "execution_count": null,
   "id": "3b6b3588-4589-469b-b7c7-0e7c99c74c69",
   "metadata": {},
   "outputs": [],
   "source": []
  },
  {
   "cell_type": "code",
   "execution_count": null,
   "id": "eb3c3a4f-a89b-45b2-b0ca-c87980121a2e",
   "metadata": {},
   "outputs": [],
   "source": []
  },
  {
   "cell_type": "code",
   "execution_count": null,
   "id": "07f99eff-e9a8-4f70-9a55-5e70250ab85c",
   "metadata": {},
   "outputs": [],
   "source": []
  },
  {
   "cell_type": "code",
   "execution_count": null,
   "id": "f8e6174a-53cb-40c8-b7dc-c59c3d5d57f6",
   "metadata": {},
   "outputs": [],
   "source": []
  },
  {
   "cell_type": "code",
   "execution_count": null,
   "id": "c8253a80-9d44-452b-953f-aac6046a3ca7",
   "metadata": {},
   "outputs": [],
   "source": []
  },
  {
   "cell_type": "code",
   "execution_count": null,
   "id": "0a9f783d-1f94-492a-b70f-8b48223b1741",
   "metadata": {},
   "outputs": [],
   "source": []
  },
  {
   "cell_type": "code",
   "execution_count": null,
   "id": "c926974f-664a-4530-aa76-c08cff2a53d4",
   "metadata": {},
   "outputs": [],
   "source": []
  },
  {
   "cell_type": "code",
   "execution_count": null,
   "id": "81cd0324-806f-4475-8ac7-95688e3e03b2",
   "metadata": {},
   "outputs": [],
   "source": []
  },
  {
   "cell_type": "code",
   "execution_count": null,
   "id": "34315805-3be2-40b2-82e2-55237415cfb2",
   "metadata": {},
   "outputs": [],
   "source": []
  },
  {
   "cell_type": "code",
   "execution_count": null,
   "id": "7a4ad24a-943e-4e4a-bdc2-38d690ac16a5",
   "metadata": {},
   "outputs": [],
   "source": []
  },
  {
   "cell_type": "code",
   "execution_count": null,
   "id": "8408ef13-d1b0-4c6e-8337-961a49387d0e",
   "metadata": {},
   "outputs": [],
   "source": []
  },
  {
   "cell_type": "code",
   "execution_count": null,
   "id": "8ca554b8-c363-488a-aa77-eb20401e3cf4",
   "metadata": {},
   "outputs": [],
   "source": []
  },
  {
   "cell_type": "code",
   "execution_count": null,
   "id": "d41cc3b0-6d35-4a5a-9e3d-b708ad4b4804",
   "metadata": {},
   "outputs": [],
   "source": []
  },
  {
   "cell_type": "code",
   "execution_count": null,
   "id": "04fab5c5-670a-4b28-9935-f2fbd1033907",
   "metadata": {},
   "outputs": [],
   "source": []
  },
  {
   "cell_type": "code",
   "execution_count": null,
   "id": "b6fe32d3-6a74-4c65-b1ab-42bddecd4541",
   "metadata": {},
   "outputs": [],
   "source": []
  },
  {
   "cell_type": "code",
   "execution_count": null,
   "id": "21c5a5f4-ef93-4002-99dd-08633bdc10df",
   "metadata": {},
   "outputs": [],
   "source": []
  },
  {
   "cell_type": "code",
   "execution_count": null,
   "id": "a61483be-a66f-401d-8793-bc531b8c45aa",
   "metadata": {},
   "outputs": [],
   "source": []
  },
  {
   "cell_type": "code",
   "execution_count": null,
   "id": "3ba59a16-39e0-4775-a310-5906ecfda5b5",
   "metadata": {},
   "outputs": [],
   "source": []
  },
  {
   "cell_type": "code",
   "execution_count": null,
   "id": "d4b2c856-6bcf-4a9a-ae96-b72b85cbae8e",
   "metadata": {},
   "outputs": [],
   "source": []
  },
  {
   "cell_type": "code",
   "execution_count": null,
   "id": "0a1d26da-1e33-433f-9689-205c884eaa20",
   "metadata": {},
   "outputs": [],
   "source": []
  },
  {
   "cell_type": "code",
   "execution_count": null,
   "id": "ad258f5e-b3b7-4675-b41d-99ec364a1d68",
   "metadata": {},
   "outputs": [],
   "source": []
  },
  {
   "cell_type": "code",
   "execution_count": null,
   "id": "ed57b876-a8a3-4954-9ef6-f0521de6029a",
   "metadata": {},
   "outputs": [],
   "source": []
  },
  {
   "cell_type": "code",
   "execution_count": null,
   "id": "3bd2b4b2-d321-43e1-a8e1-588dcdd87777",
   "metadata": {},
   "outputs": [],
   "source": []
  },
  {
   "cell_type": "code",
   "execution_count": null,
   "id": "ac5f6ff3-ac75-4aa7-ac5b-4d9dbe47b5a1",
   "metadata": {},
   "outputs": [],
   "source": []
  },
  {
   "cell_type": "code",
   "execution_count": null,
   "id": "71395243-b9dc-4133-939f-805354929c20",
   "metadata": {},
   "outputs": [],
   "source": []
  },
  {
   "cell_type": "code",
   "execution_count": null,
   "id": "6582e51f-a1e1-4d96-96a3-b566738eed30",
   "metadata": {},
   "outputs": [],
   "source": []
  },
  {
   "cell_type": "code",
   "execution_count": null,
   "id": "8ee0112a-b51a-453d-a563-415fc54ee0f8",
   "metadata": {},
   "outputs": [],
   "source": []
  },
  {
   "cell_type": "code",
   "execution_count": null,
   "id": "f5d59afd-fc68-44f7-8ec6-b153f3da205d",
   "metadata": {},
   "outputs": [],
   "source": []
  },
  {
   "cell_type": "code",
   "execution_count": null,
   "id": "b7870f81-cff2-4ef3-9cb9-8c5869ecf5ce",
   "metadata": {},
   "outputs": [],
   "source": []
  },
  {
   "cell_type": "code",
   "execution_count": null,
   "id": "baf4474b-270b-4999-8d1a-256a9af1886e",
   "metadata": {},
   "outputs": [],
   "source": []
  },
  {
   "cell_type": "code",
   "execution_count": null,
   "id": "06001688-1a23-42c5-a8bf-ca6225fa469c",
   "metadata": {},
   "outputs": [],
   "source": []
  },
  {
   "cell_type": "code",
   "execution_count": null,
   "id": "24083827-2f90-4f9f-ad28-5f5858e75d9f",
   "metadata": {},
   "outputs": [],
   "source": []
  },
  {
   "cell_type": "code",
   "execution_count": null,
   "id": "b932f988-ef98-49e8-b89e-47c457673036",
   "metadata": {},
   "outputs": [],
   "source": [
    "\n"
   ]
  },
  {
   "cell_type": "code",
   "execution_count": 1,
   "id": "86445214-a60c-4a5e-8fa8-b1619f638be3",
   "metadata": {},
   "outputs": [
    {
     "name": "stdout",
     "output_type": "stream",
     "text": [
      "Hi Hello\n"
     ]
    }
   ],
   "source": [
    "print(\"Hi hello\")"
   ]
  },
  {
   "cell_type": "code",
   "execution_count": null,
   "id": "4c7e1140-5968-42a9-b6d4-f47473a31de9",
   "metadata": {},
   "outputs": [],
   "source": []
  },
  {
   "cell_type": "code",
   "execution_count": null,
   "id": "8077fc23-9da8-4170-b43a-62296781ff6a",
   "metadata": {},
   "outputs": [],
   "source": []
  },
  {
   "cell_type": "code",
   "execution_count": null,
   "id": "4e645be8-4108-437d-8777-1a10cc47369d",
   "metadata": {},
   "outputs": [],
   "source": []
  },
  {
   "cell_type": "code",
   "execution_count": null,
   "id": "431e6a0f-0b5b-42e7-b547-80f5f4553433",
   "metadata": {},
   "outputs": [],
   "source": []
  },
  {
   "cell_type": "code",
   "execution_count": null,
   "id": "b3387988-277c-464a-ae0d-9b5424d8cdc2",
   "metadata": {},
   "outputs": [],
   "source": [
    "\n"
   ]
  },
  {
   "cell_type": "code",
   "execution_count": null,
   "id": "b720cb21-aa48-4666-b1e4-74e06f7391a2",
   "metadata": {},
   "outputs": [],
   "source": []
  },
  {
   "cell_type": "code",
   "execution_count": null,
   "id": "0593d2ec-9472-4c65-93f0-b28feab24580",
   "metadata": {},
   "outputs": [],
   "source": []
  }
 ],
 "metadata": {
  "kernelspec": {
   "display_name": "Python 3",
   "language": "python",
   "name": "python3"
  },
  "language_info": {
   "codemirror_mode": {
    "name": "ipython",
    "version": 3
   },
   "file_extension": ".py",
   "mimetype": "text/x-python",
   "name": "python",
   "nbconvert_exporter": "python",
   "pygments_lexer": "ipython3",
   "version": "3.8.8"
  }
 },
 "nbformat": 4,
 "nbformat_minor": 5
}
